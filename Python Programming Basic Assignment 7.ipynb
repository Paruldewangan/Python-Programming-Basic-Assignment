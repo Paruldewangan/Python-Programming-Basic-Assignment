{
 "cells": [
  {
   "cell_type": "code",
   "execution_count": 2,
   "metadata": {},
   "outputs": [
    {
     "name": "stdout",
     "output_type": "stream",
     "text": [
      "Enter number of elements in the array : 4\n",
      "Enter element number 1: \n",
      "1\n",
      "Enter element number 2: \n",
      "2\n",
      "Enter element number 3: \n",
      "3\n",
      "Enter element number 4: \n",
      "4\n",
      "Entered array is:  [1, 2, 3, 4] \n",
      "\n",
      "Total sum of array is :  10\n"
     ]
    }
   ],
   "source": [
    "#1. Write a Python Program to find sum of array?\n",
    "\n",
    "#Program to find sum of array\n",
    "\n",
    "#to take input array:\n",
    "\n",
    "lst = []\n",
    "n = int(input(\"Enter number of elements in the array : \"))\n",
    "for i in range(0, n):\n",
    "    print(\"Enter element number {}: \".format(i+1)) \n",
    "    a = int(input())\n",
    "    lst.append(a) \n",
    "\n",
    "print(\"Entered array is: \",lst, \"\\n\")\n",
    "\n",
    "#to sum up array:\n",
    "\n",
    "s=0\n",
    "\n",
    "for i in lst:\n",
    "    s= s+i\n",
    "print(\"Total sum of array is : \" ,s)"
   ]
  },
  {
   "cell_type": "code",
   "execution_count": 10,
   "metadata": {},
   "outputs": [
    {
     "name": "stdout",
     "output_type": "stream",
     "text": [
      "Enter number of elements in the array : 5\n",
      "Enter element number 1: \n",
      "2\n",
      "Enter element number 2: \n",
      "3\n",
      "Enter element number 3: \n",
      "1\n",
      "Enter element number 4: \n",
      "7\n",
      "Enter element number 5: \n",
      "2\n",
      "Entered array is:  [2, 3, 1, 7, 2] \n",
      "\n",
      "Largest element in array is  7\n"
     ]
    }
   ],
   "source": [
    "# 2. Write a Python Program to find largest element in an array?\n",
    "\n",
    "#Program to find largest element in an array\n",
    "\n",
    "#To take input array\n",
    "lst = []\n",
    "n = int(input(\"Enter number of elements in the array : \"))\n",
    "for i in range(0, n):\n",
    "    print(\"Enter element number {}: \".format(i+1))\n",
    "    a = int(input())\n",
    "    lst.append(a) \n",
    "\n",
    "print(\"Entered array is: \",lst, \"\\n\")\n",
    "# To find largest element in array\n",
    "l=0\n",
    "\n",
    "for i in lst:\n",
    "    if(i>l):\n",
    "        l=i\n",
    "print(\"Largest element in array is \", l)\n"
   ]
  },
  {
   "cell_type": "code",
   "execution_count": 4,
   "metadata": {},
   "outputs": [
    {
     "name": "stdout",
     "output_type": "stream",
     "text": [
      "Enter number of elements in the array : 5\n",
      "Enter element number 1: \n",
      "1\n",
      "Enter element number 2: \n",
      "2\n",
      "Enter element number 3: \n",
      "3\n",
      "Enter element number 4: \n",
      "4\n",
      "Enter element number 5: \n",
      "5\n",
      "Entered array is:  [1, 2, 3, 4, 5]\n",
      "Enter the rotation number2\n",
      "[3, 4, 5, 1, 2]\n"
     ]
    }
   ],
   "source": [
    "#3. Write a Python Program for array rotation?\n",
    "\n",
    "#Python Program for array rotation\n",
    "#To take input array\n",
    "lst = []\n",
    "n = int(input(\"Enter number of elements in the array : \"))\n",
    "for i in range(0, n):\n",
    "    print(\"Enter element number {}: \".format(i+1))\n",
    "    a = int(input())\n",
    "    lst.append(a)\n",
    "print(\"Entered array is: \",lst)\n",
    "# To array rotation\n",
    "b=int(input(\"Enter the rotation number\"))\n",
    "lst = lst[b:]+lst[:b]\n",
    "print(lst)"
   ]
  },
  {
   "cell_type": "code",
   "execution_count": 4,
   "metadata": {},
   "outputs": [
    {
     "name": "stdout",
     "output_type": "stream",
     "text": [
      "1 4 12 61 2 3 "
     ]
    }
   ],
   "source": [
    "# 4. Write a Python Program to Split the array and add the first part to the end?\n",
    "\n",
    "#Python Program to split the array and add the first part to the end\n",
    "\n",
    "def splitArr(a, n, k): \n",
    "   b = a[:k]\n",
    "   return (a[k::]+b[::])\n",
    "          \n",
    "arr = [2, 3, 1, 4, 12, 61]\n",
    "n = len(arr)\n",
    "position = 2\n",
    "arr = splitArr(arr, n, position)\n",
    "for i in range(0, n): \n",
    "    print(arr[i], end = ' ')"
   ]
  },
  {
   "cell_type": "code",
   "execution_count": 1,
   "metadata": {},
   "outputs": [
    {
     "name": "stdout",
     "output_type": "stream",
     "text": [
      "Enter number of elements in the array : 4\n",
      "Enter element number 0: \n",
      "1\n",
      "Enter element number 1: \n",
      "2\n",
      "Enter element number 2: \n",
      "3\n",
      "Enter element number 3: \n",
      "4\n",
      "Entered array is:  [1, 2, 3, 4]\n",
      "True\n"
     ]
    }
   ],
   "source": [
    "#5. Write a Python Program to check if given array is Monotonic?\n",
    "\n",
    "\n",
    "lst = []\n",
    "n = int(input(\"Enter number of elements in the array : \"))\n",
    "for i in range(0, n):\n",
    "    print(\"Enter element number {}: \".format(i))\n",
    "    a = int(input())\n",
    "    lst.append(a)\n",
    "print(\"Entered array is: \",lst)\n",
    "\n",
    "#TO Check array is Monotonic\n",
    "def isMonotonic(A):\n",
    "   return (all(A[i] <= A[i + 1] for i in range(len(A) - 1)) or\n",
    "      all(A[i] >= A[i + 1] for i in range(len(A) - 1)))\n",
    "# main\n",
    "A = [1,2,3,4,7,8]\n",
    "print(isMonotonic(A))\n"
   ]
  }
 ],
 "metadata": {
  "kernelspec": {
   "display_name": "Python 3",
   "language": "python",
   "name": "python3"
  },
  "language_info": {
   "codemirror_mode": {
    "name": "ipython",
    "version": 3
   },
   "file_extension": ".py",
   "mimetype": "text/x-python",
   "name": "python",
   "nbconvert_exporter": "python",
   "pygments_lexer": "ipython3",
   "version": "3.8.5"
  }
 },
 "nbformat": 4,
 "nbformat_minor": 4
}
