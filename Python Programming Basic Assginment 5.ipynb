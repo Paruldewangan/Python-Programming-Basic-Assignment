{
 "cells": [
  {
   "cell_type": "code",
   "execution_count": 1,
   "metadata": {},
   "outputs": [
    {
     "name": "stdout",
     "output_type": "stream",
     "text": [
      "Enter first number : 5\n",
      "Enter second number : 15\n",
      "15\n"
     ]
    }
   ],
   "source": [
    "#1. Write a Python Program to Find LCM?\n",
    "\n",
    "#Program to Find LCM\n",
    "\n",
    "x=int(input(\"Enter first number : \"))\n",
    "y=int(input(\"Enter second number : \"))\n",
    "def lcm(x,y):\n",
    "    if x>y:\n",
    "        max=x\n",
    "    else:\n",
    "        max=y\n",
    "    while(True):\n",
    "        if((max % x == 0) and (max % y ==0)):\n",
    "            lcm=max\n",
    "            break\n",
    "        max+=1\n",
    "    return lcm\n",
    "print(lcm(x,y))\n"
   ]
  },
  {
   "cell_type": "code",
   "execution_count": 4,
   "metadata": {},
   "outputs": [
    {
     "name": "stdout",
     "output_type": "stream",
     "text": [
      "Enter first number : 3\n",
      "Enter second number : 4\n",
      "1\n"
     ]
    }
   ],
   "source": [
    "#2. Write a Python Program to Find HCF?\n",
    "\n",
    "#Program to Find HCF\n",
    "\n",
    "x=int(input(\"Enter first number : \"))\n",
    "y=int(input(\"Enter second number : \"))\n",
    "def hcf(x,y):\n",
    "    if x>y:\n",
    "        min=y\n",
    "    else:\n",
    "        min=x\n",
    "    for i in range (1, min):\n",
    "        if((x % i == 0) and (y % i ==0)):\n",
    "            hcf=i\n",
    "            i=i+1\n",
    "    \n",
    "    return hcf\n",
    "print(hcf(x,y))\n"
   ]
  },
  {
   "cell_type": "code",
   "execution_count": 13,
   "metadata": {},
   "outputs": [
    {
     "name": "stdout",
     "output_type": "stream",
     "text": [
      "Enter decimal number : 48\n",
      "Binary number is:  110000\n",
      "Hexa number is:  120\n",
      "Binary numer is:  60\n"
     ]
    }
   ],
   "source": [
    "#3. Write a Python Program to Convert Decimal to Binary, Octal and Hexadecimal?\n",
    "\n",
    "#Program to Convert Decimal to Binary, Octal and Hexadecimal\n",
    "\n",
    "num=int(input(\"Enter decimal number : \"))\n",
    "\n",
    "def dec2bin(num):\n",
    "    p=1\n",
    "    r=0\n",
    "    while num>0:\n",
    "        r= r+(num%2)*p\n",
    "        num= int(num/2)\n",
    "        p=p*10\n",
    "    return r\n",
    "print (\"Binary number is: \",dec2bin(num))\n",
    "\n",
    "\n",
    "def dec2hexa(num):\n",
    "    p=1\n",
    "    r=0\n",
    "    while num>0:\n",
    "        r= r+(num%6)*p\n",
    "        num= int(num/6)\n",
    "        p=p*10\n",
    "    return r\n",
    "print (\"Hexa number is: \",dec2hexa(num))\n",
    "\n",
    "def dec2octa(num):\n",
    "    p=1\n",
    "    r=0\n",
    "    while num>0:\n",
    "        r= r+(num%8)*p\n",
    "        num= int(num/8)\n",
    "        p=p*10\n",
    "    return r\n",
    "print (\"Binary numer is: \",dec2octa(num))\n",
    "    "
   ]
  },
  {
   "cell_type": "code",
   "execution_count": 23,
   "metadata": {},
   "outputs": [
    {
     "name": "stdout",
     "output_type": "stream",
     "text": [
      "Enter the string : abc\n",
      "The ASCII value of is:\n",
      "97,98,99,"
     ]
    }
   ],
   "source": [
    "#4. Write a Python Program To Find ASCII value of a character?\n",
    "\n",
    "#Program To Find ASCII value of a character\n",
    "\n",
    "x=str(input(\"Enter the string : \"))\n",
    "b =''\n",
    "print(\"The ASCII value of is:\")\n",
    "for i in x:\n",
    "    ord(i)\n",
    "    print (ord(i), end = \",\")    "
   ]
  },
  {
   "cell_type": "code",
   "execution_count": 26,
   "metadata": {},
   "outputs": [
    {
     "name": "stdout",
     "output_type": "stream",
     "text": [
      "Select operation.\n",
      "1.Add\n",
      "2.Subtract\n",
      "3.Multiply\n",
      "4.Divide\n",
      "Enter choice(1/2/3/4): 3\n",
      "Enter first number: 2\n",
      "Enter second number: 3\n",
      "2 * 3 = 6\n"
     ]
    }
   ],
   "source": [
    "#5. Write a Python Program to Make a Simple Calculator with 4 basic mathematical operations?\n",
    "\n",
    "# Program make a simple calculator\n",
    "\n",
    "def add(x, y):\n",
    "    return x + y\n",
    "\n",
    "def subtract(x, y):\n",
    "    return x - y\n",
    "\n",
    "def multiply(x, y):\n",
    "    return x * y\n",
    "\n",
    "def divide(x, y):\n",
    "    return x / y\n",
    "\n",
    "\n",
    "print(\"Select operation.\")\n",
    "print(\"1.Add\")\n",
    "print(\"2.Subtract\")\n",
    "print(\"3.Multiply\")\n",
    "print(\"4.Divide\")\n",
    "\n",
    "while True:\n",
    "    choice = input(\"Enter choice(1/2/3/4): \")\n",
    "    \n",
    "    if choice in ('1', '2', '3', '4'):\n",
    "        num1 = int(input(\"Enter first number: \"))\n",
    "        num2 = int(input(\"Enter second number: \"))\n",
    "\n",
    "        if choice == '1':\n",
    "            print(num1, \"+\", num2, \"=\", add(num1, num2))\n",
    "\n",
    "        elif choice == '2':\n",
    "            print(num1, \"-\", num2, \"=\", subtract(num1, num2))\n",
    "\n",
    "        elif choice == '3':\n",
    "            print(num1, \"*\", num2, \"=\", multiply(num1, num2))\n",
    "\n",
    "        elif choice == '4':\n",
    "            print(num1, \"/\", num2, \"=\", divide(num1, num2))\n",
    "        break\n",
    "    else:\n",
    "        print(\"Invalid Input\")\n",
    "    \n"
   ]
  },
  {
   "cell_type": "code",
   "execution_count": null,
   "metadata": {},
   "outputs": [],
   "source": []
  }
 ],
 "metadata": {
  "kernelspec": {
   "display_name": "Python 3",
   "language": "python",
   "name": "python3"
  },
  "language_info": {
   "codemirror_mode": {
    "name": "ipython",
    "version": 3
   },
   "file_extension": ".py",
   "mimetype": "text/x-python",
   "name": "python",
   "nbconvert_exporter": "python",
   "pygments_lexer": "ipython3",
   "version": "3.8.5"
  }
 },
 "nbformat": 4,
 "nbformat_minor": 4
}
