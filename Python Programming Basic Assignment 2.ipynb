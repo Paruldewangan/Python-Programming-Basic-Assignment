{
 "cells": [
  {
   "cell_type": "code",
   "execution_count": 1,
   "metadata": {},
   "outputs": [
    {
     "name": "stdout",
     "output_type": "stream",
     "text": [
      "enter the value in kilometers 4\n",
      "value in miles 2.485484\n"
     ]
    }
   ],
   "source": [
    "#Write a Python program to convert kilometers to miles?\n",
    "km=int(input(\"enter the value in kilometers \"))\n",
    "ratio=0.621371\n",
    "Mile=km*ratio\n",
    "print(\"value in miles\",Mile)"
   ]
  },
  {
   "cell_type": "code",
   "execution_count": 2,
   "metadata": {},
   "outputs": [
    {
     "name": "stdout",
     "output_type": "stream",
     "text": [
      "enter the value in celsius 37\n",
      "Value in Fahrenheit is 98.60000000000001\n"
     ]
    }
   ],
   "source": [
    "#Write a Python program to convert Celsius to Fahrenheit.?\n",
    "Celsius=float(input(\"enter the value in celsius \"))\n",
    "Fahrenheit=(Celsius*1.8)+32\n",
    "print(\"Value in Fahrenheit is\",Fahrenheit)"
   ]
  },
  {
   "cell_type": "code",
   "execution_count": 3,
   "metadata": {},
   "outputs": [
    {
     "name": "stdout",
     "output_type": "stream",
     "text": [
      "Enter the year 2020\n",
      "Enter the month 2\n",
      "   February 2020\n",
      "Mo Tu We Th Fr Sa Su\n",
      "                1  2\n",
      " 3  4  5  6  7  8  9\n",
      "10 11 12 13 14 15 16\n",
      "17 18 19 20 21 22 23\n",
      "24 25 26 27 28 29\n",
      "\n"
     ]
    }
   ],
   "source": [
    "#Write a Python program to display a Calender?\n",
    "import calendar\n",
    "a=int(input(\"Enter the year \"))\n",
    "b=int(input(\"Enter the month \"))\n",
    "print(calendar.month(a,b))"
   ]
  },
  {
   "cell_type": "code",
   "execution_count": 4,
   "metadata": {},
   "outputs": [
    {
     "name": "stdout",
     "output_type": "stream",
     "text": [
      "enter the value a : 1\n",
      "enter the value b : 3\n",
      "enter the value c : -4\n",
      "solution1  1.0\n",
      "solution2  -4.0\n"
     ]
    }
   ],
   "source": [
    "#Write a Python program to solve quadratic equation ( ax**2+bx+c=0)\n",
    "a=float(input(\"enter the value a : \"))\n",
    "b=float(input(\"enter the value b : \"))\n",
    "c=float(input(\"enter the value c : \"))\n",
    "d=(b**2)-(4*a*c)\n",
    "\n",
    "solution1=(-b+(d**0.5))/(2*a) \n",
    "solution2=(-b-(d**0.5))/(2*a) \n",
    "\n",
    "print(\"solution1 \",solution1)\n",
    "print(\"solution2 \",solution2)"
   ]
  },
  {
   "cell_type": "code",
   "execution_count": 5,
   "metadata": {},
   "outputs": [
    {
     "name": "stdout",
     "output_type": "stream",
     "text": [
      "enter a value a : 1.3\n",
      "enter a value b : 4.1\n",
      "value of a is : 4.1\n",
      "value of b is : 1.3\n"
     ]
    }
   ],
   "source": [
    "#Write a Python program to swap variables without temp variable?\n",
    "a=float(input(\"enter a value a : \"))\n",
    "b=float(input(\"enter a value b : \"))\n",
    "\n",
    "a,b=b,a\n",
    "print(\"value of a is :\",a)\n",
    "print(\"value of b is :\",b)"
   ]
  },
  {
   "cell_type": "code",
   "execution_count": null,
   "metadata": {},
   "outputs": [],
   "source": []
  }
 ],
 "metadata": {
  "kernelspec": {
   "display_name": "Python 3",
   "language": "python",
   "name": "python3"
  },
  "language_info": {
   "codemirror_mode": {
    "name": "ipython",
    "version": 3
   },
   "file_extension": ".py",
   "mimetype": "text/x-python",
   "name": "python",
   "nbconvert_exporter": "python",
   "pygments_lexer": "ipython3",
   "version": "3.8.5"
  }
 },
 "nbformat": 4,
 "nbformat_minor": 4
}
