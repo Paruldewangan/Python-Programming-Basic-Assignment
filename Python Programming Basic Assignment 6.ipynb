{
 "cells": [
  {
   "cell_type": "code",
   "execution_count": 12,
   "metadata": {},
   "outputs": [
    {
     "name": "stdout",
     "output_type": "stream",
     "text": [
      "Enter the number:5\n",
      "Fibonacci sequence:\n",
      "0\n",
      "1\n",
      "1\n",
      "2\n",
      "3\n"
     ]
    }
   ],
   "source": [
    "#1. Write a Python Program to Display Fibonacci Sequence Using Recursion?\n",
    "\n",
    "n= int (input(\"Enter the number:\"))\n",
    "\n",
    "def fibo(x):\n",
    "    \n",
    "    if x <= 1:\n",
    "        return x\n",
    "    else:\n",
    "        return (fibo(x-1) + fibo(x-2))\n",
    "\n",
    "if n <= 0:\n",
    "       print(\"Plese enter a positive integer\")\n",
    "else:\n",
    "    print(\"Fibonacci sequence:\")\n",
    "    for i in range(n):\n",
    "        print(fibo(i))\n",
    "\n",
    "\n"
   ]
  },
  {
   "cell_type": "code",
   "execution_count": 13,
   "metadata": {},
   "outputs": [
    {
     "name": "stdout",
     "output_type": "stream",
     "text": [
      "Enter the number:5\n",
      "The factorial of 5 is 120\n"
     ]
    }
   ],
   "source": [
    "#2. Write a Python Program to Find Factorial of Number Using Recursion?\n",
    "\n",
    "#Program to Find Factorial of Number Using Recursion\n",
    "\n",
    "x= int (input(\"Enter the number:\"))\n",
    "\n",
    "def factr(x):\n",
    "    \n",
    "    if x == 1:\n",
    "        return 1\n",
    "    else:\n",
    "        return (x * factr(x-1))\n",
    "\n",
    "print(\"The factorial of\", x, \"is\", factr(x))"
   ]
  },
  {
   "cell_type": "code",
   "execution_count": 2,
   "metadata": {},
   "outputs": [
    {
     "name": "stdout",
     "output_type": "stream",
     "text": [
      "Input your height in ft: 5.2\n",
      "Input your weight in kgs: 56\n",
      "Your body mass index is:  2.07\n"
     ]
    }
   ],
   "source": [
    "#3. Write a Python Program to calculate your Body Mass Index?\n",
    "\n",
    "#Program to calculate your Body Mass Index\n",
    "\n",
    "h = float(input(\"Input your height in ft: \"))\n",
    "w = float(input(\"Input your weight in kgs: \"))\n",
    "\n",
    "print(\"Your body mass index is: \", round(w / (h * h), 2))\n",
    "\n"
   ]
  },
  {
   "cell_type": "code",
   "execution_count": 12,
   "metadata": {},
   "outputs": [
    {
     "name": "stdout",
     "output_type": "stream",
     "text": [
      "Enter the number:2\n",
      "log value 0.6931471805599453\n"
     ]
    }
   ],
   "source": [
    "#4. Write a Python Program to calculate the natural logarithm of any number?\n",
    "\n",
    "#Program to calculate the natural logarithm of any number\n",
    "n= int(input(\"Enter the number:\"))\n",
    "import math\n",
    "print(\"log value\", math.log(n))"
   ]
  },
  {
   "cell_type": "code",
   "execution_count": 15,
   "metadata": {},
   "outputs": [
    {
     "name": "stdout",
     "output_type": "stream",
     "text": [
      "Enter the number:3\n",
      "36\n"
     ]
    }
   ],
   "source": [
    "#5. Write a Python Program for cube sum of first n natural numbers?\n",
    "\n",
    "#Program to calculate cube sum of first n natural numbers\n",
    "    \n",
    "n= int (input(\"Enter the number:\"))\n",
    "def sum(n):\n",
    "    sum=0\n",
    "    for i in range(1, n+1):\n",
    "        sum += i * i * i\n",
    "    return sum\n",
    "print(sum(n)) "
   ]
  },
  {
   "cell_type": "code",
   "execution_count": null,
   "metadata": {},
   "outputs": [],
   "source": []
  }
 ],
 "metadata": {
  "kernelspec": {
   "display_name": "Python 3",
   "language": "python",
   "name": "python3"
  },
  "language_info": {
   "codemirror_mode": {
    "name": "ipython",
    "version": 3
   },
   "file_extension": ".py",
   "mimetype": "text/x-python",
   "name": "python",
   "nbconvert_exporter": "python",
   "pygments_lexer": "ipython3",
   "version": "3.8.5"
  }
 },
 "nbformat": 4,
 "nbformat_minor": 4
}
